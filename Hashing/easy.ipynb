{
 "cells": [
  {
   "cell_type": "markdown",
   "id": "adb2c150",
   "metadata": {},
   "source": [
    "## Ransom Note"
   ]
  },
  {
   "cell_type": "code",
   "execution_count": 69,
   "id": "c38cd7ea",
   "metadata": {},
   "outputs": [],
   "source": [
    "ransomNote = \"fffbfg\"\n",
    "magazine = \"effjfggbffjdgbjjhhdegh\""
   ]
  },
  {
   "cell_type": "code",
   "execution_count": null,
   "id": "1f1d9b29",
   "metadata": {},
   "outputs": [
    {
     "name": "stdout",
     "output_type": "stream",
     "text": [
      "{'f': 4, 'b': 1, 'g': 1} 6\n"
     ]
    }
   ],
   "source": [
    "hsh={}\n",
    "i=0\n",
    "count=0\n",
    "for char in ransomNote:\n",
    "    if char not in hsh:\n",
    "        hsh[char]=1\n",
    "        count+=1\n",
    "    else:\n",
    "        hsh[char]=hsh[char]+1\n",
    "        count+=1\n",
    "print(hsh,count)"
   ]
  },
  {
   "cell_type": "code",
   "execution_count": 71,
   "id": "599858bf",
   "metadata": {},
   "outputs": [
    {
     "name": "stdout",
     "output_type": "stream",
     "text": [
      "{'f': 0, 'b': 0, 'g': 0} 0\n"
     ]
    }
   ],
   "source": [
    "for char in magazine:\n",
    "    if char in hsh and hsh[char]>0:\n",
    "        hsh[char]=hsh[char]-1\n",
    "        count-=1\n",
    "print(hsh,count)"
   ]
  },
  {
   "cell_type": "code",
   "execution_count": 37,
   "id": "1141b4b7",
   "metadata": {},
   "outputs": [
    {
     "name": "stdout",
     "output_type": "stream",
     "text": [
      "false\n",
      "true\n"
     ]
    }
   ],
   "source": [
    "for keys in hsh.keys():\n",
    "    if keys not in magazine:\n",
    "        print('false')\n",
    "    else:\n",
    "        print('true')"
   ]
  },
  {
   "cell_type": "markdown",
   "id": "44aea136",
   "metadata": {},
   "source": [
    "Cool way this was done is by \n",
    "for i in ransomnote\n",
    "    if i in magazine\n",
    "        magazine=magazine.replace(i,\"\",1) replce the first occurance of i with \"\" \n",
    "    else:\n",
    "        return False\n",
    "return True\n",
    "\n",
    "pretty damn fast imo\n",
    "and no hash maps too\n",
    "\n",
    "things i find interesetting are\n",
    "the order\n",
    "you for for i in ransomnote and not for magazine\n",
    "you iterate through ransom note if the char is in magazine. you replace the character in magazine so that you wont encounter it again\n",
    "if the character is not encountered in magainze we return true"
   ]
  },
  {
   "cell_type": "markdown",
   "id": "bd769399",
   "metadata": {},
   "source": [
    "## Isomorphic String"
   ]
  },
  {
   "cell_type": "markdown",
   "id": "a18d4cf5",
   "metadata": {},
   "source": []
  }
 ],
 "metadata": {
  "kernelspec": {
   "display_name": "jupytorch",
   "language": "python",
   "name": "python3"
  },
  "language_info": {
   "codemirror_mode": {
    "name": "ipython",
    "version": 3
   },
   "file_extension": ".py",
   "mimetype": "text/x-python",
   "name": "python",
   "nbconvert_exporter": "python",
   "pygments_lexer": "ipython3",
   "version": "3.11.11"
  }
 },
 "nbformat": 4,
 "nbformat_minor": 5
}
