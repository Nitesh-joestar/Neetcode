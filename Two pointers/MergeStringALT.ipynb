{
 "cells": [
  {
   "cell_type": "code",
   "execution_count": 13,
   "id": "4c36eb8d",
   "metadata": {},
   "outputs": [],
   "source": [
    "word1 = \"abcd\"\n",
    "word2 = \"xyzqeq\""
   ]
  },
  {
   "cell_type": "code",
   "execution_count": 16,
   "id": "8bd8e10d",
   "metadata": {},
   "outputs": [
    {
     "name": "stdout",
     "output_type": "stream",
     "text": [
      "axbyczdqeq\n"
     ]
    }
   ],
   "source": [
    "i=0\n",
    "j=0\n",
    "word=[]\n",
    "mark1=mark2=True\n",
    "while mark1 or mark2:\n",
    "    if i<len(word1):\n",
    "        word.append(word1[i])\n",
    "    else:\n",
    "        mark1=False\n",
    "    if j<len(word2):\n",
    "        word.append(word2[j])\n",
    "    else:\n",
    "        mark2=False\n",
    "    i+=1\n",
    "    j+=1\n",
    "print(\"\".join(word))"
   ]
  },
  {
   "cell_type": "code",
   "execution_count": null,
   "id": "bce0e8b8",
   "metadata": {},
   "outputs": [
    {
     "name": "stdout",
     "output_type": "stream",
     "text": [
      "axbyczdqeq\n"
     ]
    }
   ],
   "source": [
    "#the above code is cool but bettter would be\n",
    "m,n=len(word1),len(word2)\n",
    "res=[]\n",
    "for i in range(max(m,n)):\n",
    "    if i<m:\n",
    "        res.append(word1[i])\n",
    "    if i<n:\n",
    "        res.append(word2[i])\n",
    "print(''.join(res))\n",
    "#this is prett"
   ]
  },
  {
   "cell_type": "markdown",
   "id": "e0266dc0",
   "metadata": {},
   "source": [
    "word=word+word2 is not optimal in terms of space bcoz of its immutability \n",
    "\n",
    "so append it to list and then ''.join(word)\n",
    "\n"
   ]
  },
  {
   "cell_type": "markdown",
   "id": "87e05e4b",
   "metadata": {},
   "source": [
    "things to learn here are index out of range issue can be solved by storing the len in an variable\n",
    "and doing operations only if i<n or something\n",
    "appending string a lot is very expensive"
   ]
  },
  {
   "cell_type": "code",
   "execution_count": null,
   "id": "87aef61f",
   "metadata": {},
   "outputs": [],
   "source": []
  }
 ],
 "metadata": {
  "kernelspec": {
   "display_name": "jupytorch",
   "language": "python",
   "name": "jupytorch"
  },
  "language_info": {
   "codemirror_mode": {
    "name": "ipython",
    "version": 3
   },
   "file_extension": ".py",
   "mimetype": "text/x-python",
   "name": "python",
   "nbconvert_exporter": "python",
   "pygments_lexer": "ipython3",
   "version": "3.11.11"
  }
 },
 "nbformat": 4,
 "nbformat_minor": 5
}
