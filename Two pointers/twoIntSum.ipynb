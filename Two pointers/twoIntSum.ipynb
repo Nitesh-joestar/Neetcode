{
 "cells": [
  {
   "cell_type": "code",
   "execution_count": 6,
   "id": "b008888b",
   "metadata": {},
   "outputs": [],
   "source": [
    "nums=[2,3,4]\n",
    "target=6"
   ]
  },
  {
   "cell_type": "code",
   "execution_count": null,
   "id": "7fd79428",
   "metadata": {},
   "outputs": [
    {
     "name": "stdout",
     "output_type": "stream",
     "text": [
      "2 4\n"
     ]
    }
   ],
   "source": [
    "\n",
    "l=0\n",
    "r=len(numbers)-1\n",
    "res=[]\n",
    "while numbers[r]>=target:\n",
    "    r-=1\n",
    "while l<r:\n",
    "    if target-numbers[r]==numbers[l]:\n",
    "        print(numbers[l],numbers[r])\n",
    "        break\n",
    "    elif target-numbers[l]==numbers[r]:\n",
    "        print(numbers[l],numbers[r])\n",
    "        break"
   ]
  },
  {
   "cell_type": "code",
   "execution_count": 10,
   "id": "e41fa108",
   "metadata": {},
   "outputs": [
    {
     "name": "stdout",
     "output_type": "stream",
     "text": [
      "[2, 4]\n"
     ]
    }
   ],
   "source": [
    "numbers=[2,3,4]\n",
    "target=6\n",
    "l=0\n",
    "r=len(numbers)-1\n",
    "res=[]\n",
    "while numbers[r]>=target:\n",
    "    r-=1\n",
    "while l<r:\n",
    "    if target-numbers[r]==numbers[l] or target-numbers[l]==numbers[r]:\n",
    "        res.append(numbers[l])\n",
    "        res.append(numbers[r])\n",
    "        print(res)\n",
    "        break"
   ]
  },
  {
   "cell_type": "code",
   "execution_count": null,
   "id": "23907220",
   "metadata": {},
   "outputs": [],
   "source": []
  }
 ],
 "metadata": {
  "kernelspec": {
   "display_name": "jupytorch",
   "language": "python",
   "name": "python3"
  },
  "language_info": {
   "codemirror_mode": {
    "name": "ipython",
    "version": 3
   },
   "file_extension": ".py",
   "mimetype": "text/x-python",
   "name": "python",
   "nbconvert_exporter": "python",
   "pygments_lexer": "ipython3",
   "version": "3.11.11"
  }
 },
 "nbformat": 4,
 "nbformat_minor": 5
}
