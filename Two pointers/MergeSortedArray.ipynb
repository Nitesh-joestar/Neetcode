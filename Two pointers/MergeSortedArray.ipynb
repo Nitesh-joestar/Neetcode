{
 "cells": [
  {
   "cell_type": "code",
   "execution_count": 56,
   "id": "03cc9d70",
   "metadata": {},
   "outputs": [],
   "source": [
    "nums1 = [-1,0,2,3,0,0]\n",
    "nums2 = [1,4]\n",
    "m = 4\n",
    "n=2\n",
    "def shift(index):\n",
    "    for i in range(len(nums1)-1,index,-1):\n",
    "        nums1[i]=nums1[i-1]"
   ]
  },
  {
   "cell_type": "code",
   "execution_count": 57,
   "id": "965c2d63",
   "metadata": {},
   "outputs": [
    {
     "name": "stdout",
     "output_type": "stream",
     "text": [
      "[-1, 0, 1, 2, 3, 0]\n",
      "[-1, 0, 1, 2, 3, 0]\n",
      "1\n",
      "[-1, 1, 1, 2, 3, 4]\n"
     ]
    }
   ],
   "source": [
    "for i in range(len(nums2)-1,-1,-1):\n",
    "    for j in range(len(nums1)):\n",
    "        if nums2[i]<nums1[j]:\n",
    "            #print(nums1[j], j)\n",
    "            shift(j)\n",
    "            nums1[j]=nums2[i]\n",
    "            print(nums1)\n",
    "            n-=1\n",
    "            break\n",
    "print(nums1)\n",
    "print(n)\n",
    "if n!=0:\n",
    "    for a in range(len(nums2)-1,-1,-1):\n",
    "        for b in range(len(nums1)-1,-1,-1):\n",
    "            if nums1[b]==0:\n",
    "                nums1[b]=nums2[a]\n",
    "                break\n",
    "    print(nums1)"
   ]
  },
  {
   "cell_type": "markdown",
   "id": "15a9fc0b",
   "metadata": {},
   "source": [
    "one solution is appending the num2 to num1 and then sorting it so easyy"
   ]
  },
  {
   "cell_type": "markdown",
   "id": "22b1bd49",
   "metadata": {},
   "source": [
    "the providing of m and n is intersting bcoz we can now make use of\n",
    "num[:m] cool and useful"
   ]
  },
  {
   "cell_type": "markdown",
   "id": "b84e604d",
   "metadata": {},
   "source": [
    "another solution is making a copy of the array without the zeros that is nums1[:m] its useful bcoz we can do comparisons \n",
    "three indexes\n",
    "i for nums1copy j for nums2 and idx for the nums1\n",
    " "
   ]
  },
  {
   "cell_type": "markdown",
   "id": "5d13ae79",
   "metadata": {},
   "source": [
    "the last elements are zero rt so we can place elements from teh end"
   ]
  },
  {
   "cell_type": "code",
   "execution_count": null,
   "id": "f890b5d7",
   "metadata": {},
   "outputs": [
    {
     "name": "stdout",
     "output_type": "stream",
     "text": [
      "[-100, -100, -100, -100, -100, 1, 2] 5 0\n"
     ]
    }
   ],
   "source": [
    "nums1 = [-100,-100,-100,-100,-100,0,0]\n",
    "m = 5\n",
    "nums2 = [1,2]\n",
    "n = 2\n",
    "last=m+n-1\n",
    "while m>0 and n>0:\n",
    "    if nums1[m-1]>nums2[n-1]:\n",
    "        nums1[last]=nums1[m-1]\n",
    "        m-=1\n",
    "    else:\n",
    "        nums1[last]=nums2[n-1]\n",
    "        n-=1\n",
    "    last-=1\n",
    "while n>0:\n",
    "    nums1[last]=nums2[n-1]\n",
    "    n-=1\n",
    "    last-=1\n",
    "print(nums1,m,n)\n",
    "# if m>0 and n is zero the list in proper order ehh"
   ]
  },
  {
   "cell_type": "code",
   "execution_count": null,
   "id": "34a2c650",
   "metadata": {},
   "outputs": [],
   "source": []
  }
 ],
 "metadata": {
  "kernelspec": {
   "display_name": "jupytorch",
   "language": "python",
   "name": "jupytorch"
  },
  "language_info": {
   "codemirror_mode": {
    "name": "ipython",
    "version": 3
   },
   "file_extension": ".py",
   "mimetype": "text/x-python",
   "name": "python",
   "nbconvert_exporter": "python",
   "pygments_lexer": "ipython3",
   "version": "3.11.11"
  }
 },
 "nbformat": 4,
 "nbformat_minor": 5
}
