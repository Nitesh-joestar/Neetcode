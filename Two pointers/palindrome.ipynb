{
 "cells": [
  {
   "cell_type": "code",
   "execution_count": 2,
   "id": "9fa220cc",
   "metadata": {},
   "outputs": [],
   "source": [
    "s = \"Was it a car or a cat I saw?\"\n"
   ]
  },
  {
   "cell_type": "code",
   "execution_count": 3,
   "id": "9bd714dc",
   "metadata": {},
   "outputs": [
    {
     "name": "stdout",
     "output_type": "stream",
     "text": [
      "was it a car or a cat i saw?\n",
      "treu\n"
     ]
    }
   ],
   "source": [
    "left=0\n",
    "right=len(s)-1\n",
    "s=s.lower()\n",
    "print(s)\n",
    "while left<right:\n",
    "    if not s[left].isalnum():\n",
    "        left+=1\n",
    "        continue\n",
    "    elif not s[right].isalnum():\n",
    "        right-=1\n",
    "        continue\n",
    "    if s[left]!=s[right]:\n",
    "        print('false')\n",
    "    left+=1\n",
    "    right-=1\n",
    "print('treu')"
   ]
  },
  {
   "cell_type": "markdown",
   "id": "1004218c",
   "metadata": {},
   "source": [
    "s=s.lower() creates a new string bud so n space complexity \n",
    "so s[left].lower()!=s[right].lower() is a much better space complexity you are just comparing \n",
    "no extra memoru"
   ]
  },
  {
   "cell_type": "code",
   "execution_count": null,
   "id": "216291aa",
   "metadata": {},
   "outputs": [],
   "source": []
  }
 ],
 "metadata": {
  "kernelspec": {
   "display_name": "jupytorch",
   "language": "python",
   "name": "jupytorch"
  },
  "language_info": {
   "codemirror_mode": {
    "name": "ipython",
    "version": 3
   },
   "file_extension": ".py",
   "mimetype": "text/x-python",
   "name": "python",
   "nbconvert_exporter": "python",
   "pygments_lexer": "ipython3",
   "version": "3.11.11"
  }
 },
 "nbformat": 4,
 "nbformat_minor": 5
}
