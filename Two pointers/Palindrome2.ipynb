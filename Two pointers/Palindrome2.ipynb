{
 "cells": [
  {
   "cell_type": "code",
   "execution_count": 8,
   "id": "d7d655c7",
   "metadata": {},
   "outputs": [],
   "source": [
    "s = \"abbda\""
   ]
  },
  {
   "cell_type": "code",
   "execution_count": 14,
   "id": "337dafe7",
   "metadata": {},
   "outputs": [],
   "source": [
    "def validPalindrome(s: str) -> bool:\n",
    "    def is_pali(l,r):\n",
    "        while l<r:\n",
    "            if s[l]!=s[r]:\n",
    "                return False\n",
    "            l+=1\n",
    "            r-=1\n",
    "        return True\n",
    "    l,r=0,len(s)-1\n",
    "    while l<r:\n",
    "        if s[l]!=s[r]:\n",
    "            return (is_pali(l+1,r) or is_pali(l,r-1))\n",
    "        l+=1\n",
    "        r-=1\n",
    "    return True"
   ]
  },
  {
   "cell_type": "code",
   "execution_count": 15,
   "id": "632b6683",
   "metadata": {},
   "outputs": [
    {
     "data": {
      "text/plain": [
       "True"
      ]
     },
     "execution_count": 15,
     "metadata": {},
     "output_type": "execute_result"
    }
   ],
   "source": [
    "validPalindrome(s=s)"
   ]
  },
  {
   "cell_type": "markdown",
   "id": "ebe38a6a",
   "metadata": {},
   "source": [
    "oh my god i understand it now its so smartt\n",
    "if we found a character dat doesnt obey the equality comparison\n",
    "we just check the strings inside and not recheck the strings wee checked\n",
    "like lets check l or r failed in comparison\n",
    "lets compare the rem string withotu l and rem string without r\n",
    "if it passes great otherwise meh"
   ]
  },
  {
   "cell_type": "code",
   "execution_count": null,
   "id": "534edafe",
   "metadata": {},
   "outputs": [],
   "source": []
  }
 ],
 "metadata": {
  "kernelspec": {
   "display_name": "jupytorch",
   "language": "python",
   "name": "jupytorch"
  },
  "language_info": {
   "codemirror_mode": {
    "name": "ipython",
    "version": 3
   },
   "file_extension": ".py",
   "mimetype": "text/x-python",
   "name": "python",
   "nbconvert_exporter": "python",
   "pygments_lexer": "ipython3",
   "version": "3.11.11"
  }
 },
 "nbformat": 4,
 "nbformat_minor": 5
}
