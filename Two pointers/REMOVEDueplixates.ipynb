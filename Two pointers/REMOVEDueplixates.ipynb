{
 "cells": [
  {
   "cell_type": "code",
   "execution_count": 104,
   "id": "017e47cc",
   "metadata": {},
   "outputs": [],
   "source": [
    "def shift(index):\n",
    "    #print('before shift',nums)\n",
    "    for i in range(index,len(nums)-1):\n",
    "        nums[i]=nums[i+1]\n",
    "    #print('shifted',nums)"
   ]
  },
  {
   "cell_type": "code",
   "execution_count": 110,
   "id": "cd7c9a0d",
   "metadata": {},
   "outputs": [
    {
     "name": "stdout",
     "output_type": "stream",
     "text": [
      "4\n",
      "[1, 2, 3, 4, 4]\n"
     ]
    }
   ],
   "source": [
    "nums = [1,1,2,3,4]\n",
    "i=1\n",
    "k=0\n",
    "lent=len(nums)\n",
    "while i<lent:\n",
    "    if nums[i-1]==nums[i]:\n",
    "        shift(i)\n",
    "        i-=1\n",
    "        if nums[lent-1]==nums[i]:\n",
    "            break\n",
    "    else:\n",
    "        k+=1\n",
    "    i+=1\n",
    "print(k+1)\n",
    "print(nums)"
   ]
  },
  {
   "cell_type": "code",
   "execution_count": 46,
   "id": "3e984ff9",
   "metadata": {},
   "outputs": [
    {
     "name": "stdout",
     "output_type": "stream",
     "text": [
      "[4, 4, 4]\n"
     ]
    }
   ],
   "source": [
    "for i in range(len(nums)-1):\n",
    "    nums[i]=nums[i+1]\n",
    "print(nums)"
   ]
  },
  {
   "cell_type": "code",
   "execution_count": 2,
   "id": "0b795679",
   "metadata": {},
   "outputs": [],
   "source": [
    "nums = [2,10,10,30,30,30]"
   ]
  },
  {
   "cell_type": "markdown",
   "id": "4d6b717a",
   "metadata": {},
   "source": [
    "set gives us the unique elements and sort gives us the list cool\n",
    "we take the lenth of it ands\n",
    "nums1[:len(unique)]=unique"
   ]
  },
  {
   "cell_type": "code",
   "execution_count": 5,
   "id": "5383568a",
   "metadata": {},
   "outputs": [
    {
     "data": {
      "text/plain": [
       "[2, 10, 30]"
      ]
     },
     "execution_count": 5,
     "metadata": {},
     "output_type": "execute_result"
    }
   ],
   "source": [
    "sorted(set(nums))"
   ]
  },
  {
   "cell_type": "code",
   "execution_count": 9,
   "id": "34ed05ba",
   "metadata": {},
   "outputs": [
    {
     "data": {
      "text/plain": [
       "3"
      ]
     },
     "execution_count": 9,
     "metadata": {},
     "output_type": "execute_result"
    }
   ],
   "source": [
    "'''\n",
    "two pointers l and r, r goes through the whole index of the list and l acts as a placeholder to place the \n",
    "element\n",
    "the main thing is the pointers amd the while in place of if, i would have used if going r<n to prevent\n",
    "index out of range and comparison going on yipee\n",
    "'''\n",
    "nums=[2,10,10,30,30,30]\n",
    "l=r=0\n",
    "n=len(nums)\n",
    "while r<n:\n",
    "    nums[l]=nums[r]\n",
    "    while r<n and nums[l]==nums[r]:\n",
    "        r+=1\n",
    "    l+=1\n",
    "l\n"
   ]
  },
  {
   "cell_type": "code",
   "execution_count": null,
   "id": "2a0845fe",
   "metadata": {},
   "outputs": [],
   "source": []
  }
 ],
 "metadata": {
  "kernelspec": {
   "display_name": "jupytorch",
   "language": "python",
   "name": "python3"
  },
  "language_info": {
   "codemirror_mode": {
    "name": "ipython",
    "version": 3
   },
   "file_extension": ".py",
   "mimetype": "text/x-python",
   "name": "python",
   "nbconvert_exporter": "python",
   "pygments_lexer": "ipython3",
   "version": "3.11.11"
  }
 },
 "nbformat": 4,
 "nbformat_minor": 5
}
