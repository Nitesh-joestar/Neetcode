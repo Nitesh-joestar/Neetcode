{
 "cells": [
  {
   "cell_type": "code",
   "execution_count": 5,
   "id": "4707e71c",
   "metadata": {},
   "outputs": [],
   "source": [
    "nums=[1,1,1,2,2,3,3,3,3,3,4,4,4,5,6,7]\n",
    "k=2\n",
    "#cool interesting prop i think the arrays are sorrted so when you get a new character you can go previous and get the frequency of that char\n",
    "import heapq"
   ]
  },
  {
   "cell_type": "code",
   "execution_count": 18,
   "id": "4466f239",
   "metadata": {},
   "outputs": [
    {
     "data": {
      "text/plain": [
       "{1: 3, 2: 2, 3: 5, 4: 3, 5: 1, 6: 1, 7: 1}"
      ]
     },
     "execution_count": 18,
     "metadata": {},
     "output_type": "execute_result"
    }
   ],
   "source": [
    "ht={}\n",
    "for num in nums:\n",
    "    if num not in ht:\n",
    "        ht[num]=1\n",
    "    else:\n",
    "        ht[num]+=1\n",
    "ht"
   ]
  },
  {
   "cell_type": "code",
   "execution_count": 19,
   "id": "d9511918",
   "metadata": {},
   "outputs": [],
   "source": [
    "tupl=tuple(ht)"
   ]
  },
  {
   "cell_type": "code",
   "execution_count": 20,
   "id": "91998570",
   "metadata": {},
   "outputs": [],
   "source": [
    "min_heap=[]\n",
    "for num in tupl:\n",
    "    heapq.heappush(min_heap,(ht[num],num))"
   ]
  },
  {
   "cell_type": "code",
   "execution_count": 21,
   "id": "c294a232",
   "metadata": {},
   "outputs": [
    {
     "data": {
      "text/plain": [
       "[(1, 5), (2, 2), (1, 6), (3, 4), (3, 1), (5, 3), (1, 7)]"
      ]
     },
     "execution_count": 21,
     "metadata": {},
     "output_type": "execute_result"
    }
   ],
   "source": [
    "min_heap"
   ]
  },
  {
   "cell_type": "code",
   "execution_count": 22,
   "id": "27cfc211",
   "metadata": {},
   "outputs": [],
   "source": [
    "popp=len(tupl)-k\n",
    "for i in range(popp):\n",
    "    heapq.heappop(min_heap)\n"
   ]
  },
  {
   "cell_type": "code",
   "execution_count": 24,
   "id": "1d24bf1d",
   "metadata": {},
   "outputs": [
    {
     "name": "stdout",
     "output_type": "stream",
     "text": [
      "3\n"
     ]
    }
   ],
   "source": [
    "print(heapq.heappop(min_heap)[1])"
   ]
  },
  {
   "cell_type": "code",
   "execution_count": 163,
   "id": "138931c7",
   "metadata": {},
   "outputs": [],
   "source": [
    "def better(mylist,key,ht):\n",
    "    k=len(mylist)\n",
    "    min=ht[mylist[0]]\n",
    "    min_index=0\n",
    "    for b in range(k):\n",
    "        if min>ht[mylist[b]]:\n",
    "            min=ht[b]\n",
    "            min_index=b\n",
    "            #print(\"Min Number\",mylist[min_index])\n",
    "    mylist[min_index]=key\n",
    "    return mylist"
   ]
  },
  {
   "cell_type": "code",
   "execution_count": 164,
   "id": "7b934124",
   "metadata": {},
   "outputs": [
    {
     "data": {
      "text/plain": [
       "[3, 3]"
      ]
     },
     "execution_count": 164,
     "metadata": {},
     "output_type": "execute_result"
    }
   ],
   "source": [
    "better(mylist,key=3,ht=ht)"
   ]
  },
  {
   "cell_type": "code",
   "execution_count": 165,
   "id": "c7fe49cc",
   "metadata": {},
   "outputs": [
    {
     "name": "stdout",
     "output_type": "stream",
     "text": [
      "[1, 2, 3, 4, 5, 6, 7]\n",
      "[7, 3]\n"
     ]
    }
   ],
   "source": [
    "k=2\n",
    "output=[]\n",
    "ht={}\n",
    "counts={}\n",
    "mylist=[]\n",
    "for a in range(len(nums)):\n",
    "    if nums[a] not in ht:\n",
    "        ht[nums[a]]=1\n",
    "        output.append(nums[a])\n",
    "        if k>0:\n",
    "            mylist.append(nums[a])\n",
    "        k-=1\n",
    "        if k<-1:\n",
    "            mylist=better(mylist=mylist,key=nums[a-1],ht=ht)\n",
    "            if a==len(nums)-1:\n",
    "                mylist=better(mylist=mylist,key=nums[a],ht=ht)\n",
    "    else:\n",
    "        ht[nums[a]]+=1        \n",
    "print(output)\n",
    "print(mylist)"
   ]
  },
  {
   "cell_type": "code",
   "execution_count": null,
   "id": "f2e0e261",
   "metadata": {},
   "outputs": [
    {
     "data": {
      "text/plain": [
       "[(0, 5), (1, 1), (2, 3), (1, 2)]"
      ]
     },
     "execution_count": 121,
     "metadata": {},
     "output_type": "execute_result"
    }
   ],
   "source": []
  },
  {
   "cell_type": "code",
   "execution_count": 122,
   "id": "5c6cce70",
   "metadata": {},
   "outputs": [],
   "source": [
    "nums = [1,1,2,2,3,3,3,5]\n",
    "k = 2"
   ]
  },
  {
   "cell_type": "code",
   "execution_count": null,
   "id": "33f9e8d1",
   "metadata": {},
   "outputs": [],
   "source": []
  },
  {
   "cell_type": "code",
   "execution_count": 130,
   "id": "c48864d0",
   "metadata": {},
   "outputs": [
    {
     "name": "stdout",
     "output_type": "stream",
     "text": [
      "1\n",
      "2\n",
      "1\n",
      "2\n",
      "1\n",
      "2\n",
      "3\n",
      "1\n",
      "[3, 1]\n"
     ]
    }
   ],
   "source": [
    "count = {}\n",
    "freq = [[] for i in range(len(nums) + 1)]\n",
    "\n",
    "for num in nums:\n",
    "    count[num] = 1 + count.get(num, 0)\n",
    "    print(count[num])\n",
    "for num, cnt in count.items():\n",
    "    freq[cnt].append(num)\n",
    "\n",
    "res = []\n",
    "for i in range(len(freq) - 1, 0, -1):\n",
    "    for num in freq[i]:\n",
    "        res.append(num)\n",
    "        if len(res) == k:\n",
    "            print(res)"
   ]
  },
  {
   "cell_type": "markdown",
   "id": "e69aafd8",
   "metadata": {},
   "source": [
    "My answer"
   ]
  },
  {
   "cell_type": "code",
   "execution_count": 134,
   "id": "04836497",
   "metadata": {},
   "outputs": [
    {
     "data": {
      "text/plain": [
       "[7]"
      ]
     },
     "execution_count": 134,
     "metadata": {},
     "output_type": "execute_result"
    }
   ],
   "source": [
    "nums = [7,7]\n",
    "k = 1\n",
    "\n",
    "buckets=[[] for _ in range(len(nums))]\n",
    "ht={}\n",
    "unique=[]\n",
    "for num in nums:\n",
    "    if num not in ht:\n",
    "        ht[num]=0\n",
    "        unique.append(num)\n",
    "    else:\n",
    "        ht[num]+=1\n",
    "ht\n",
    "unique\n",
    "\n",
    "min_heap=[]\n",
    "for num in unique:\n",
    "    heapq.heappush(min_heap,(ht[num],num))\n",
    "min_heap\n",
    "\n",
    "unique_len=len(unique)\n",
    "topop=unique_len-k\n",
    "while topop>0:\n",
    "    heapq.heappop(min_heap)\n",
    "    topop-=1\n",
    "min_heap\n",
    "output=[]\n",
    "while k>0:\n",
    "    output.append(heapq.heappop(min_heap)[1])\n",
    "    k-=1\n",
    "output"
   ]
  },
  {
   "cell_type": "markdown",
   "id": "dc2c3189",
   "metadata": {},
   "source": [
    "### O(nlogk)"
   ]
  },
  {
   "cell_type": "code",
   "execution_count": null,
   "id": "2868d71c",
   "metadata": {},
   "outputs": [],
   "source": [
    "count = {}\n",
    "for num in nums:\n",
    "    count[num] = 1 + count.get(num, 0)\n",
    "\n",
    "heap = []\n",
    "for num in count.keys():\n",
    "    heapq.heappush(heap, (count[num], num))\n",
    "    if len(heap) > k:\n",
    "        heapq.heappop(heap)\n",
    "\n",
    "res = []\n",
    "for i in range(k):\n",
    "    res.append(heapq.heappop(heap)[1])\n",
    "print(res)"
   ]
  },
  {
   "cell_type": "markdown",
   "id": "dc153005",
   "metadata": {},
   "source": [
    "Cool way to add do hashing where if element doesnt exist and cases where it does exists\n",
    "count={}\n",
    "count[num]=1+count.get(num,0) if it doesnt exist initializes it to 0\n",
    "i could iterate through the hash\n",
    "for num in count.keys() i went creating unique. a new additional space i used to store unique and then iterate through ti\n",
    "for num in count.keys(): impressive\n",
    "through this we push em into the min heap aight \n",
    "another clever idea if len of the min heap gets over k we pop em keeping the len of heap to k clever\n",
    "res=[]\n",
    "for i in range pop and append the result\n",
    "\n",
    "crazyy"
   ]
  },
  {
   "cell_type": "markdown",
   "id": "fee783c7",
   "metadata": {},
   "source": [
    "1+count.get(num,0)\n",
    "count.key()\n",
    "if len(minheap)>k\n",
    "    pop\n"
   ]
  },
  {
   "cell_type": "markdown",
   "id": "ab7e0013",
   "metadata": {},
   "source": [
    "### O(n)"
   ]
  },
  {
   "cell_type": "code",
   "execution_count": null,
   "id": "0b87677e",
   "metadata": {},
   "outputs": [],
   "source": [
    "count = {}\n",
    "freq = [[] for i in range(len(nums) + 1)]\n",
    "\n",
    "for num in nums:\n",
    "    count[num] = 1 + count.get(num, 0)\n",
    "for num, cnt in count.items():\n",
    "    freq[cnt].append(num)\n",
    "\n",
    "res = []\n",
    "for i in range(len(freq) - 1, 0, -1):\n",
    "    for num in freq[i]:\n",
    "        res.append(num)\n",
    "        if len(res) == k:\n",
    "            print(res)"
   ]
  },
  {
   "cell_type": "markdown",
   "id": "2fd4b1c1",
   "metadata": {},
   "source": [
    "clever idea frequency of any character will never increase beyond the length of the array its int\n",
    "that a defenite\n",
    "count[num]=1+count.get(nums,0)\n",
    "looping through the count hash keys() and then place the elements in the index=frequency\n",
    "we are appending them initilizing the array to have empty lists\n",
    "now after creating the frequency buckets it uses two for loops\n",
    "for i in range(len(freq)-1,0,-1)\n",
    "the -1 makes it so the loop goes back therefore decreases\n",
    "for num in freq[i]: it skips the empty buckets woah\n",
    "and goes directly to the end element\n",
    "and if len of res==k we go return res\n",
    "crazy"
   ]
  },
  {
   "cell_type": "markdown",
   "id": "aaddf0d3",
   "metadata": {},
   "source": [
    "for i in range(len(freq)-1,0,-1)\n",
    "for num in freq[i] freq is a list of lists where each list may have \n",
    "it iterates through thte list lovely\n",
    "we append and if len gets greater than k we return or equal we return"
   ]
  },
  {
   "cell_type": "markdown",
   "id": "54066d43",
   "metadata": {},
   "source": [
    "## O(nlogn)"
   ]
  },
  {
   "cell_type": "code",
   "execution_count": null,
   "id": "b8d0f867",
   "metadata": {},
   "outputs": [],
   "source": [
    "count = {}\n",
    "for num in nums:\n",
    "    count[num] = 1 + count.get(num, 0)\n",
    "\n",
    "arr = []\n",
    "for num, cnt in count.items():\n",
    "    arr.append([cnt, num])\n",
    "arr.sort()\n",
    "\n",
    "res = []\n",
    "while len(res) < k:\n",
    "    res.append(arr.pop()[1])\n",
    "print(res)"
   ]
  },
  {
   "cell_type": "markdown",
   "id": "77a86e81",
   "metadata": {},
   "source": [
    "hashing\n",
    "appending frequency and value into arr array\n",
    "and then sorting it so it goees from lowest freq to high\n",
    "you can pop array()\n",
    "arr.pop() pops the last one crazzyy"
   ]
  },
  {
   "cell_type": "markdown",
   "id": "510b3c9e",
   "metadata": {},
   "source": [
    "i leanrt popping an array\n",
    "stroring and sorting"
   ]
  },
  {
   "cell_type": "markdown",
   "id": "6d902991",
   "metadata": {},
   "source": [
    "f"
   ]
  }
 ],
 "metadata": {
  "kernelspec": {
   "display_name": "jupytorch",
   "language": "python",
   "name": "jupytorch"
  },
  "language_info": {
   "codemirror_mode": {
    "name": "ipython",
    "version": 3
   },
   "file_extension": ".py",
   "mimetype": "text/x-python",
   "name": "python",
   "nbconvert_exporter": "python",
   "pygments_lexer": "ipython3",
   "version": "3.11.11"
  }
 },
 "nbformat": 4,
 "nbformat_minor": 5
}
