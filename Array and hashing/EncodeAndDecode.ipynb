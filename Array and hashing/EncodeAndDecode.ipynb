{
 "cells": [
  {
   "cell_type": "code",
   "execution_count": 278,
   "id": "ce8cff76",
   "metadata": {},
   "outputs": [],
   "source": [
    "input=[\"neet\",\"code\",\"love\",\"you\"]"
   ]
  },
  {
   "cell_type": "code",
   "execution_count": 279,
   "id": "9819a04a",
   "metadata": {},
   "outputs": [],
   "source": [
    "def encode(strs):\n",
    "    encoded=''\n",
    "    for word in strs:\n",
    "        lent=len(word)\n",
    "        msg=f\"/{lent}$\"\n",
    "        encoded=encoded+word+msg\n",
    "    return encoded"
   ]
  },
  {
   "cell_type": "code",
   "execution_count": 280,
   "id": "8282c541",
   "metadata": {},
   "outputs": [
    {
     "data": {
      "text/plain": [
       "'neet/4$code/4$love/4$you/3$'"
      ]
     },
     "execution_count": 280,
     "metadata": {},
     "output_type": "execute_result"
    }
   ],
   "source": [
    "encode(input)"
   ]
  },
  {
   "cell_type": "code",
   "execution_count": 287,
   "id": "5f446dfe",
   "metadata": {},
   "outputs": [],
   "source": [
    "def decode(strng):\n",
    "    index=0\n",
    "    output=[]\n",
    "    lent=''\n",
    "    for i in range(len(strng)):\n",
    "        if strng[i]=='/':\n",
    "            while strng[i]!='$':\n",
    "                i+=1\n",
    "                if strng[i]!='$':\n",
    "                    lent=lent+strng[i]\n",
    "            #print(int(lent),strng[i],len(strng)-1,i,index,strng[index])\n",
    "            #print()\n",
    "            output.append(strng[index:index+int(lent)])\n",
    "            if i!=len(strng)-1:\n",
    "                index=i+1\n",
    "                #print(strng[index],strng[int(lent)])\n",
    "                #print(int(lent)) \n",
    "            #print(strng[index:int(lent)])\n",
    "            lent=''\n",
    "    return output"
   ]
  },
  {
   "cell_type": "code",
   "execution_count": 289,
   "id": "a9a770c4",
   "metadata": {},
   "outputs": [
    {
     "data": {
      "text/plain": [
       "['neet', 'code', 'love', 'you']"
      ]
     },
     "execution_count": 289,
     "metadata": {},
     "output_type": "execute_result"
    }
   ],
   "source": [
    "decode(encode(input))"
   ]
  },
  {
   "cell_type": "code",
   "execution_count": null,
   "id": "6f5ae4ff",
   "metadata": {},
   "outputs": [],
   "source": []
  }
 ],
 "metadata": {
  "kernelspec": {
   "display_name": "jupytorch",
   "language": "python",
   "name": "jupytorch"
  },
  "language_info": {
   "codemirror_mode": {
    "name": "ipython",
    "version": 3
   },
   "file_extension": ".py",
   "mimetype": "text/x-python",
   "name": "python",
   "nbconvert_exporter": "python",
   "pygments_lexer": "ipython3",
   "version": "3.11.11"
  }
 },
 "nbformat": 4,
 "nbformat_minor": 5
}
