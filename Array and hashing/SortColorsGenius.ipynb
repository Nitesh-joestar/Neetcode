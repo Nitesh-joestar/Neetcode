{
 "cells": [
  {
   "cell_type": "code",
   "execution_count": 24,
   "id": "030bbd42",
   "metadata": {},
   "outputs": [],
   "source": [
    "def indexchecker(nums):\n",
    "    a,b,c=0,0,0\n",
    "    for num in nums:\n",
    "        if num==0:\n",
    "            a+=1\n",
    "        elif num==1:\n",
    "            b+=1\n",
    "        elif num==2:\n",
    "            c+=1\n",
    "    return a,b,c"
   ]
  },
  {
   "cell_type": "code",
   "execution_count": 33,
   "id": "a2dfd51d",
   "metadata": {},
   "outputs": [
    {
     "name": "stdout",
     "output_type": "stream",
     "text": [
      "[0, 0, 0, 2, 1, 1, 2, 2, 2]  (3, 2, 4)\n",
      "[0, 0, 0, 2, 1, 1, 2, 2, 2]  (3, 2, 4)\n",
      "[0, 0, 0, 2, 1, 1, 2, 2, 2]  (3, 2, 4)\n",
      "[0, 0, 0, 1, 1, 1, 2, 2, 2]  (3, 3, 3)\n",
      "[0, 0, 0, 1, 1, 1, 2, 2, 2]  (3, 3, 3)\n",
      "[0, 0, 0, 1, 1, 1, 2, 2, 2]  (3, 3, 3)\n",
      "[0, 0, 0, 1, 1, 1, 2, 2, 2]  (3, 3, 3)\n",
      "[0, 0, 0, 1, 1, 1, 2, 2, 2]  (3, 3, 3)\n",
      "[0, 0, 0, 1, 1, 1, 2, 2, 2]  (3, 3, 3)\n"
     ]
    }
   ],
   "source": [
    "nums=[0,0,0,2,1,1,2,2,2]\n",
    "z_index=0\n",
    "t_index=len(nums)-1\n",
    "onefound=False\n",
    "for a in range(len(nums)):\n",
    "    if nums[a]==1:\n",
    "        onefound=True\n",
    "    if nums[a]==0:\n",
    "        if a!=z_index:\n",
    "            nums[a]=1\n",
    "        nums[z_index]=0\n",
    "        if a!=z_index:\n",
    "            nums[a]=1\n",
    "        z_index=z_index+1\n",
    "    if nums[a]==2:\n",
    "        if a<t_index:\n",
    "            proxy=nums[t_index]\n",
    "            nums[t_index]=2\n",
    "            nums[a]=1\n",
    "            t_index=t_index-1\n",
    "            if nums[t_index]==2:\n",
    "                t_index-=1\n",
    "            if proxy==0:\n",
    "                #print('haiii')\n",
    "                nums[z_index]=0\n",
    "                z_index=z_index+1\n",
    "                a=a+1\n",
    "            if proxy==2:\n",
    "                nums[a]=1\n",
    "                a=a+1\n",
    "    print(nums,'',indexchecker(nums))"
   ]
  },
  {
   "cell_type": "code",
   "execution_count": null,
   "id": "0417a17e",
   "metadata": {},
   "outputs": [],
   "source": [
    "nums=[0,1,2,2,1,0,1,2,0]"
   ]
  },
  {
   "cell_type": "code",
   "execution_count": null,
   "id": "e92f4109",
   "metadata": {},
   "outputs": [
    {
     "name": "stdout",
     "output_type": "stream",
     "text": [
      "[1, 2, 2, 2, 2]  (0, 1, 4)\n",
      "[1, 2, 2, 2, 2]  (0, 1, 4)\n",
      "[1, 2, 2, 2, 2]  (0, 1, 4)\n",
      "[1, 2, 2, 2, 2]  (0, 1, 4)\n",
      "[1, 2, 2, 2, 2]  (0, 1, 4)\n"
     ]
    }
   ],
   "source": [
    "nums=[2,2,2,2,2]\n",
    "\n",
    "z_index=0\n",
    "t_index=len(nums)-1\n",
    "onefound=False\n",
    "for a in range(len(nums)):\n",
    "    while (nums[t_index]==2 and t_index!=0):\n",
    "        t_index-=1\n",
    "    if nums[a]==1:\n",
    "        onefound=True\n",
    "    if nums[a]==0:\n",
    "        if a!=z_index:\n",
    "            nums[a]=1\n",
    "        nums[z_index]=0\n",
    "        if a!=z_index:\n",
    "            nums[a]=1\n",
    "        z_index=z_index+1\n",
    "    if nums[a]==2:\n",
    "        if a<t_index:\n",
    "            proxy=nums[t_index]\n",
    "            nums[t_index]=2\n",
    "            nums[a]=1\n",
    "            t_index=t_index-1\n",
    "            if proxy==0:\n",
    "                #print('haiii')\n",
    "                nums[z_index]=0\n",
    "                z_index=z_index+1\n",
    "                a=a+1\n",
    "            if proxy==2:\n",
    "                nums[a]=1\n",
    "                a=a+1\n",
    "    print(nums,'',indexchecker(nums))"
   ]
  },
  {
   "cell_type": "code",
   "execution_count": 42,
   "id": "9e5402bf",
   "metadata": {},
   "outputs": [
    {
     "name": "stdout",
     "output_type": "stream",
     "text": [
      "[2, 1, 0, 1]\n",
      "[2, 1, 0, 1]\n",
      "[2, 1, 0, 1]\n",
      "[2, 1, 0, 1]\n"
     ]
    }
   ],
   "source": [
    "nums=nums[::-1]\n",
    "z_index=0\n",
    "t_index=len(nums)-1\n",
    "for num in nums:\n",
    "    if num==2:\n",
    "        nums[z_index]=2\n",
    "        z_index=z_index+1\n",
    "    print(nums)"
   ]
  },
  {
   "cell_type": "code",
   "execution_count": 2,
   "id": "cfec1d7f",
   "metadata": {},
   "outputs": [],
   "source": [
    "a,b,c=0,0,0\n",
    "for num in nums:\n",
    "    if num==0:\n",
    "        a+=1\n",
    "    elif num==1:\n",
    "        b+=1\n",
    "    elif num==2:\n",
    "        c+=1"
   ]
  },
  {
   "cell_type": "code",
   "execution_count": 3,
   "id": "274d254a",
   "metadata": {},
   "outputs": [
    {
     "name": "stdout",
     "output_type": "stream",
     "text": [
      "1 2 1\n"
     ]
    }
   ],
   "source": [
    "print(a,b,c)"
   ]
  },
  {
   "cell_type": "code",
   "execution_count": 9,
   "id": "48a456a5",
   "metadata": {},
   "outputs": [],
   "source": [
    "nums=[1,1,2,0]"
   ]
  },
  {
   "cell_type": "code",
   "execution_count": 10,
   "id": "be7df7af",
   "metadata": {},
   "outputs": [
    {
     "name": "stdout",
     "output_type": "stream",
     "text": [
      "[1, 1, 2, 0]\n",
      "[1, 1, 2, 2]\n"
     ]
    }
   ],
   "source": [
    "left=0\n",
    "right=len(nums)-1\n",
    "z_index=0\n",
    "t_index=len(nums)-1\n",
    "while left<right:\n",
    "    if nums[left]==0:\n",
    "        nums[z_index]=0\n",
    "        z_index+=1\n",
    "    if nums[right]==2:\n",
    "        nums[t_index]=2\n",
    "        t_index-=1\n",
    "    \n",
    "    left+=1\n",
    "    right-=1\n",
    "    print(nums)"
   ]
  },
  {
   "cell_type": "code",
   "execution_count": null,
   "id": "b261c59b",
   "metadata": {},
   "outputs": [
    {
     "name": "stdout",
     "output_type": "stream",
     "text": [
      "[0, 0, 0]\n",
      "[0, 2, 1]\n",
      "[1, 1, 2]\n"
     ]
    }
   ],
   "source": [
    "# two for loops if they arent nested is still N\n",
    "nums=[1,2,1]\n",
    "count = [0] * 3\n",
    "print(count)\n",
    "for num in nums:\n",
    "    count[num] += 1\n",
    "print(count)\n",
    "index = 0\n",
    "for i in range(3):\n",
    "    while count[i]:\n",
    "        count[i] -= 1\n",
    "        nums[index] = i\n",
    "        index += 1\n",
    "print(nums)"
   ]
  },
  {
   "cell_type": "code",
   "execution_count": null,
   "id": "0b9192e7",
   "metadata": {},
   "outputs": [],
   "source": [
    "#utilizes swap and the loop not moving forward for a specific condition but staying there ooh nice prop\n",
    "#l,r and index which sweeps through, great code love it\n",
    "#use of while loop and a manual index variable interesting i need to use them\n",
    "l, r = 0, len(nums) - 1\n",
    "i = 0\n",
    "\n",
    "def swap(i, j):\n",
    "    temp = nums[i]\n",
    "    nums[i] = nums[j]\n",
    "    nums[j] = temp\n",
    "\n",
    "while i <= r:\n",
    "    if nums[i] == 0:\n",
    "        swap(l, i)\n",
    "        l += 1\n",
    "    elif nums[i] == 2:\n",
    "        swap(i, r)\n",
    "        r -= 1\n",
    "        i -= 1\n",
    "    i += 1"
   ]
  },
  {
   "cell_type": "code",
   "execution_count": null,
   "id": "3560471a",
   "metadata": {},
   "outputs": [
    {
     "name": "stdout",
     "output_type": "stream",
     "text": [
      "[1, 2, 1]\n",
      "[1, 2, 1]\n",
      "[1, 1, 2]\n"
     ]
    }
   ],
   "source": [
    "#so pretty my thoughts on it\n",
    "#so elegant\n",
    "#idk so pretty i cant find any takeways\n",
    "#Keeping note of the latest numbers index seems to be a thing here\n",
    "nums=[1,2,1]\n",
    "zero = one = two = 0\n",
    "for i in range(len(nums)):\n",
    "    if nums[i] == 0:\n",
    "        nums[two] = 2\n",
    "        nums[one] = 1\n",
    "        nums[zero] = 0\n",
    "        two += 1\n",
    "        one += 1\n",
    "        zero += 1\n",
    "    elif nums[i] == 1:\n",
    "        nums[two] = 2\n",
    "        nums[one] = 1\n",
    "        two += 1\n",
    "        one += 1\n",
    "    else:\n",
    "        nums[two] = 2\n",
    "        two += 1\n",
    "    print(nums)"
   ]
  },
  {
   "cell_type": "code",
   "execution_count": null,
   "id": "f489ce71",
   "metadata": {},
   "outputs": [],
   "source": [
    "zero = one = 0\n",
    "for two in range(len(nums)):\n",
    "    tmp = nums[two]\n",
    "    nums[two] = 2\n",
    "    if tmp < 2:\n",
    "        nums[one] = 1\n",
    "        one += 1\n",
    "    if tmp < 1:\n",
    "        nums[zero] = 0\n",
    "        zero += 1#kof"
   ]
  }
 ],
 "metadata": {
  "kernelspec": {
   "display_name": "jupytorch",
   "language": "python",
   "name": "jupytorch"
  },
  "language_info": {
   "codemirror_mode": {
    "name": "ipython",
    "version": 3
   },
   "file_extension": ".py",
   "mimetype": "text/x-python",
   "name": "python",
   "nbconvert_exporter": "python",
   "pygments_lexer": "ipython3",
   "version": "3.11.11"
  }
 },
 "nbformat": 4,
 "nbformat_minor": 5
}
