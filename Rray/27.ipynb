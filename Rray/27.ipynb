{
 "cells": [
  {
   "cell_type": "code",
   "execution_count": 6,
   "id": "f520badd",
   "metadata": {},
   "outputs": [],
   "source": [
    "nums=[0,1,2,2,3,0,4,2]\n",
    "val=2"
   ]
  },
  {
   "cell_type": "code",
   "execution_count": 8,
   "id": "aa7d8627",
   "metadata": {},
   "outputs": [
    {
     "name": "stdout",
     "output_type": "stream",
     "text": [
      "[0, 1, 3, 0, 4, 0, 4, 2]\n"
     ]
    }
   ],
   "source": [
    "l=r=0\n",
    "#ig you can save memorize by not using n at all\n",
    "n=len(nums)\n",
    "while r<n:\n",
    "    if nums[r]==val:\n",
    "        r+=1\n",
    "        continue\n",
    "    else:\n",
    "        nums[l]=nums[r]\n",
    "        l+=1\n",
    "        r+=1\n",
    "print(nums)"
   ]
  },
  {
   "cell_type": "code",
   "execution_count": 17,
   "id": "d8a0e066",
   "metadata": {},
   "outputs": [],
   "source": [
    "nums = [0,0,1,1,1,2,2,3,3,4]"
   ]
  },
  {
   "cell_type": "code",
   "execution_count": 57,
   "id": "243b7645",
   "metadata": {},
   "outputs": [
    {
     "name": "stdout",
     "output_type": "stream",
     "text": [
      "1 0\n",
      "4 1\n",
      "6 2\n",
      "8 3\n",
      "9 4\n",
      "[0, 1, 2, 3, 4, 2, 2, 3, 3, 4] 5 10\n"
     ]
    }
   ],
   "source": [
    "nums = [0,0,1,1,1,2,2,3,3,4]\n",
    "l=0\n",
    "r=0\n",
    "n=len(nums)\n",
    "while r<n:\n",
    "    while r<n-1 and nums[r]==nums[r+1]:\n",
    "        r+=1\n",
    "    nums[l]=nums[r]\n",
    "    l+=1\n",
    "    print(r,nums[r])\n",
    "    r+=1\n",
    "print(nums,l,n)"
   ]
  },
  {
   "cell_type": "markdown",
   "id": "ef93dee8",
   "metadata": {},
   "source": [
    "you can use set to store unique elements and then \n",
    "just not in this that\n",
    "two pointers. one is index 0th element for loop from the 1st elemente "
   ]
  },
  {
   "cell_type": "code",
   "execution_count": null,
   "id": "68158de4",
   "metadata": {},
   "outputs": [],
   "source": []
  }
 ],
 "metadata": {
  "kernelspec": {
   "display_name": "jupytorch",
   "language": "python",
   "name": "python3"
  },
  "language_info": {
   "codemirror_mode": {
    "name": "ipython",
    "version": 3
   },
   "file_extension": ".py",
   "mimetype": "text/x-python",
   "name": "python",
   "nbconvert_exporter": "python",
   "pygments_lexer": "ipython3",
   "version": "3.11.11"
  }
 },
 "nbformat": 4,
 "nbformat_minor": 5
}
