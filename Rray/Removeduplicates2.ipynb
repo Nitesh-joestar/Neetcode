{
 "cells": [
  {
   "cell_type": "code",
   "execution_count": 36,
   "id": "e42c73dd",
   "metadata": {},
   "outputs": [],
   "source": [
    "nums = [1,1,1,2,3,3]"
   ]
  },
  {
   "cell_type": "code",
   "execution_count": 37,
   "id": "fce7841e",
   "metadata": {},
   "outputs": [],
   "source": [
    "def call(index,count,number):\n",
    "    for i in range(count):\n",
    "        nums[index]=number\n",
    "        index+=1\n",
    "    print(nums)"
   ]
  },
  {
   "cell_type": "code",
   "execution_count": 38,
   "id": "9da81d28",
   "metadata": {},
   "outputs": [
    {
     "name": "stdout",
     "output_type": "stream",
     "text": [
      "[1, 2, 2, 2, 3, 3]\n"
     ]
    }
   ],
   "source": [
    "call(1,2,2)"
   ]
  },
  {
   "cell_type": "code",
   "execution_count": 54,
   "id": "b8ad01da",
   "metadata": {},
   "outputs": [
    {
     "name": "stdout",
     "output_type": "stream",
     "text": [
      "[1, 1, 1, 2, 2, 3]\n",
      "[1, 1, 2, 2, 2, 3]\n",
      "3 1 4\n",
      "[1, 1, 2, 2, 3, 3]\n",
      "5\n"
     ]
    }
   ],
   "source": [
    "nums = [1,1,1,2,2,3]\n",
    "i=0\n",
    "index=0\n",
    "holder=nums[0]\n",
    "for a in range(len(nums)):\n",
    "    if nums[a]==holder:\n",
    "        i+=1\n",
    "    else:\n",
    "        #print(nums[a-1],i,a-i,index)\n",
    "\n",
    "        if i>=2:\n",
    "            call(index=index,count=2,number=nums[a-1])\n",
    "            index+=2\n",
    "            #print('twice',index)\n",
    "            #call(index=index,count=2,number=nums[a-1])\n",
    "        elif i==1:\n",
    "            call(index=index,count=1,number=nums[a-1])\n",
    "            index+=1\n",
    "            #print('once',index)\n",
    "            #call(index=index,count=1,number=nums[a-1])\n",
    "\n",
    "        holder=nums[a]\n",
    "        i=1\n",
    "print(holder,i,index)\n",
    "if i>=2:\n",
    "    call(index=index,count=2,number=holder)\n",
    "    index+=2\n",
    "elif i==1:\n",
    "    call(index=index,count=1,number=holder)\n",
    "    index+=1\n",
    "print(index)"
   ]
  },
  {
   "cell_type": "markdown",
   "id": "739a40a7",
   "metadata": {},
   "source": [
    "the above code works but isnt that great in terms of time or space certainly not the best tho"
   ]
  },
  {
   "cell_type": "code",
   "execution_count": null,
   "id": "eeaaa9b0",
   "metadata": {},
   "outputs": [
    {
     "name": "stdout",
     "output_type": "stream",
     "text": [
      "[1, 1, 2, 2, 2, 3, 3, 4]\n",
      "[1, 1, 2, 2, 2, 3, 3, 4]\n",
      "[1, 1, 2, 2, 3, 3, 3, 4]\n",
      "[1, 1, 2, 2, 3, 3, 3, 4]\n",
      "[1, 1, 2, 2, 3, 3, 4, 4]\n",
      "[1, 1, 2, 2, 3, 3, 4, 4]\n"
     ]
    }
   ],
   "source": [
    "nums=[1,1,1,2,2,3,3,4]\n",
    "k = 2\n",
    "for i in range(2,len(nums)):\n",
    "    if nums[i]!=nums[k-2]:\n",
    "        nums[k]=nums[i]   \n",
    "        k+=1\n",
    "        print(nums)\n",
    "print(nums)\n",
    "''' \n",
    "yeh its pretty cool one for loop and then using a pointer for index but there is a change to it\n",
    "in the sense like you dont make a comparison directly\n",
    "you wont set k=0 and check if nums[i]==nums[k]\n",
    "you set k=2 and make a comparison like nums[i]==nums[k-2]\n",
    "\n",
    "'''"
   ]
  },
  {
   "cell_type": "code",
   "execution_count": null,
   "id": "61246896",
   "metadata": {},
   "outputs": [],
   "source": []
  }
 ],
 "metadata": {
  "kernelspec": {
   "display_name": "jupytorch",
   "language": "python",
   "name": "python3"
  },
  "language_info": {
   "codemirror_mode": {
    "name": "ipython",
    "version": 3
   },
   "file_extension": ".py",
   "mimetype": "text/x-python",
   "name": "python",
   "nbconvert_exporter": "python",
   "pygments_lexer": "ipython3",
   "version": "3.11.11"
  }
 },
 "nbformat": 4,
 "nbformat_minor": 5
}
